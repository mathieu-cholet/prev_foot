{
 "cells": [
  {
   "cell_type": "markdown",
   "metadata": {},
   "source": [
    "# Loading libraries"
   ]
  },
  {
   "cell_type": "code",
   "execution_count": 6,
   "metadata": {
    "scrolled": true
   },
   "outputs": [],
   "source": [
    "import pandas as pd\n",
    "from bs4 import BeautifulSoup\n",
    "import requests\n",
    "from time import sleep\n",
    "import pandas as pd"
   ]
  },
  {
   "cell_type": "markdown",
   "metadata": {},
   "source": [
    "# Get  the links from all team by season"
   ]
  },
  {
   "cell_type": "code",
   "execution_count": 6,
   "metadata": {},
   "outputs": [],
   "source": [
    "def func_day(d):\n",
    "    return d.split()[0]\n",
    "def func_month(d):\n",
    "    return d.split()[1]\n",
    "def func_year(d):\n",
    "    return d.split()[2]\n",
    "\n",
    "dict_months = {\n",
    "    \"Janvier\": \"01\",\n",
    "    \"Février\": \"02\",\n",
    "    \"Mars\": \"03\",\n",
    "    \"Avril\": \"04\",\n",
    "    \"Mai\": \"05\",\n",
    "    \"Juin\": \"06\",\n",
    "    \"Juillet\": \"07\",\n",
    "    \"Août\": \"08\",\n",
    "    \"Septembre\": \"09\",\n",
    "    \"Octobre\": \"10\",\n",
    "    \"Novembre\": \"11\",\n",
    "    \"Décembre\": \"12\"\n",
    "}\n",
    "\n",
    "\n",
    "r = requests.get('https://www.fifaindex.com/fr/teams/')\n",
    "soup = BeautifulSoup(r.text, 'html.parser')\n",
    "fifas=soup.find(\"li\",{\"class\":\"breadcrumb-item dropdown\"}).find_all(\"a\")[1:]\n",
    "lien_fifa=[]\n",
    "for i in range(len(fifas)):\n",
    "    lien_fifa.append(\"https://www.fifaindex.com\"+fifas[i][\"href\"])\n",
    "lien_fifa.pop(3)  #delete then fifa18wc (world  cup) \n",
    "\n",
    "def links_by_championnat(championnat):\n",
    "    link_team_championanat=[]\n",
    "    links_date =[]\n",
    "    date_str=[]\n",
    "    for i in range(len(lien_fifa)):  \n",
    "        r = requests.get(lien_fifa[i])\n",
    "        soup = BeautifulSoup(r.text, 'html.parser')    \n",
    "        dates=soup.find_all(\"li\",{\"class\":\"breadcrumb-item dropdown\"})[1].find_all(\"a\")[1:]\n",
    "\n",
    "        for j in range(len(dates)):\n",
    "            links_date.append(\"https://www.fifaindex.com\"+dates[j][\"href\"]+championnat)\n",
    "            date_str.append(dates[j].text)\n",
    "    df=pd.DataFrame(list(zip(date_str, links_date)), date_str,columns=['dates',\"links_date\"])\n",
    "    df['test']=df['dates'].map(func_day)+'-'+df['dates'].map(func_month).map(dict_months)+'-'+df['dates'].map(func_year)\n",
    "    df['test'] = pd.to_datetime(df['test'],format=\"%d-%m-%Y\" )\n",
    "    df[\"month\"]=df[\"test\"].dt.month\n",
    "    df[\"year\"]=df[\"test\"].dt.year\n",
    "    df.sort_values(by=[\"year\",\"month\"], ascending=False)\n",
    "    df.drop_duplicates(subset = [\"year\",\"month\"], keep = 'first', inplace=True)\n",
    "    links_date=df.links_date.values.tolist()       \n",
    "    \n",
    "    for i in range(len(links_date)):  \n",
    "        r = requests.get(links_date[i])\n",
    "        soup = BeautifulSoup(r.text, 'html.parser')\n",
    "        Teams=soup.find(\"div\",{\"class\":\"responsive-table table-rounded\"}).find_all(\"a\",{\"class\":\"link-team\"})\n",
    "        for j in range(len(Teams)):\n",
    "            if j%2:\n",
    "                link_team_championanat.append(\"https://www.fifaindex.com\"+Teams[j][\"href\"])\n",
    "        sleep(5)\n",
    "    return link_team_championanat"
   ]
  },
  {
   "cell_type": "code",
   "execution_count": 7,
   "metadata": {},
   "outputs": [],
   "source": [
    "filter_serieA = \"?league=31&order=desc\"\n",
    "filter_bundesligua = \"?league=19&order=desc\"\n",
    "filter_ligue1 = \"?league=16&order=desc\"\n",
    "filter_premiere_league = \"?league=13&order=desc\"\n",
    "filter_liga = \"?league=53&order=desc\""
   ]
  },
  {
   "cell_type": "code",
   "execution_count": 8,
   "metadata": {},
   "outputs": [],
   "source": [
    "links_date_serieA=links_by_championnat(filter_serieA)\n",
    "df_links_date_serieA=pd.DataFrame({\"links_date_serieA\": links_date_serieA})\n",
    "df_links_date_serieA.to_pickle('input/df_links_date_serieA.pkl')"
   ]
  },
  {
   "cell_type": "code",
   "execution_count": 9,
   "metadata": {},
   "outputs": [],
   "source": [
    "links_date_bundesligua=links_by_championnat(filter_bundesligua )\n",
    "df_links_date_bundesligua=pd.DataFrame({\"links_date_bundesligua\": links_date_bundesligua})\n",
    "df_links_date_bundesligua.to_pickle('input/df_links_date_bundesligua.pkl')"
   ]
  },
  {
   "cell_type": "code",
   "execution_count": 11,
   "metadata": {},
   "outputs": [],
   "source": [
    "links_date_premiere_league=links_by_championnat(filter_premiere_league )\n",
    "df_links_date_premiere_league=pd.DataFrame({\"links_date_premiere_league\": links_date_premiere_league})\n",
    "df_links_date_premiere_league.to_pickle('input/df_links_date_premiere_league.pkl')"
   ]
  },
  {
   "cell_type": "code",
   "execution_count": 12,
   "metadata": {},
   "outputs": [],
   "source": [
    "links_date_liga=links_by_championnat(filter_liga )\n",
    "df_links_date_liga=pd.DataFrame({\"links_date_liga\": links_date_liga})\n",
    "df_links_date_liga.to_pickle('input/df_links_date_liga.pkl')"
   ]
  },
  {
   "cell_type": "code",
   "execution_count": 13,
   "metadata": {},
   "outputs": [],
   "source": [
    "links_date_ligue1=links_by_championnat(filter_ligue1)\n",
    "df_links_date_ligue1=pd.DataFrame({\"links_date_ligue1\": links_date_ligue1})\n",
    "df_links_date_ligue1.to_pickle('input/df_links_date_ligue1.pkl')"
   ]
  },
  {
   "cell_type": "markdown",
   "metadata": {},
   "source": [
    "# Dataframe TEAMS"
   ]
  },
  {
   "cell_type": "code",
   "execution_count": 14,
   "metadata": {},
   "outputs": [],
   "source": [
    "def dataframe_by_championnat(links_date_championnat): \n",
    "    df_teams_championnat= pd.DataFrame(columns=['team','date','attaque','milieu','defense','budget_transfert'])\n",
    "    for link in range(len(links_date_championnat)):\n",
    "        r = requests.get(links_date_championnat[link])\n",
    "        soup = BeautifulSoup(r.text, 'html.parser')\n",
    "        records = []\n",
    "        team=soup.find_all(\"div\",{\"class\":\"col-sm-6 col-md-7\"})[0].find(\"h1\").text\n",
    "        date=soup.find_all(\"li\",{\"class\":\"breadcrumb-item dropdown\"})[1].find_all(\"a\")[0].text\n",
    "        attaque=soup.find_all(\"li\",{\"class\": \"list-group-item\"})[1].find(\"span\").text\n",
    "        milieu=soup.find_all(\"li\",{\"class\": \"list-group-item\"})[2].find(\"span\").text\n",
    "        defense=soup.find_all(\"li\",{\"class\": \"list-group-item\"})[3].find(\"span\").text\n",
    "        try : \n",
    "            budget_transfert=soup.find_all(\"li\",{\"class\": \"list-group-item\"})[4].find(\"span\",{\"class\":\"data-currency data-currency-euro float-right\"}).text\n",
    "        except :\n",
    "            budget_transfert=''\n",
    "        records.append((team,date, attaque, milieu,defense,budget_transfert))\n",
    "        df_team = pd.DataFrame(records, columns=['team','date','attaque','milieu','defense','budget_transfert'])\n",
    "        df_teams_championnat=df_teams_championnat.append(df_team)\n",
    "\n",
    "        if link%50==0:\n",
    "            sleep(5)\n",
    "    return df_teams_championnat"
   ]
  },
  {
   "cell_type": "code",
   "execution_count": null,
   "metadata": {},
   "outputs": [],
   "source": []
  },
  {
   "cell_type": "code",
   "execution_count": 15,
   "metadata": {},
   "outputs": [
    {
     "name": "stdout",
     "output_type": "stream",
     "text": [
      "0\n",
      "50\n",
      "100\n",
      "150\n",
      "200\n",
      "250\n",
      "300\n",
      "350\n",
      "400\n",
      "450\n",
      "500\n",
      "550\n",
      "600\n",
      "650\n",
      "700\n",
      "750\n",
      "800\n",
      "850\n",
      "900\n",
      "950\n",
      "1000\n",
      "1050\n",
      "1100\n",
      "1150\n",
      "1200\n",
      "1250\n",
      "1300\n",
      "1350\n",
      "1400\n",
      "1450\n",
      "1500\n",
      "1550\n",
      "1600\n"
     ]
    }
   ],
   "source": [
    "df_links_date_serieA = pd.read_pickle('input/df_links_date_serieA.pkl')\n",
    "links_date_serieA=df_links_date_serieA.links_date_serieA.values.tolist()\n",
    "\n",
    "df_teams_serieA=dataframe_by_championnat(links_date_serieA)\n",
    "df_teams_serieA.to_pickle('input/df_teams_serieA.pkl')"
   ]
  },
  {
   "cell_type": "code",
   "execution_count": 16,
   "metadata": {},
   "outputs": [
    {
     "name": "stdout",
     "output_type": "stream",
     "text": [
      "0\n",
      "50\n",
      "100\n",
      "150\n",
      "200\n",
      "250\n",
      "300\n",
      "350\n",
      "400\n",
      "450\n",
      "500\n",
      "550\n",
      "600\n",
      "650\n",
      "700\n",
      "750\n",
      "800\n",
      "850\n",
      "900\n",
      "950\n",
      "1000\n",
      "1050\n",
      "1100\n",
      "1150\n",
      "1200\n",
      "1250\n",
      "1300\n",
      "1350\n",
      "1400\n",
      "1450\n"
     ]
    }
   ],
   "source": [
    "df_links_date_bundesligua = pd.read_pickle('input/df_links_date_bundesligua.pkl')\n",
    "links_date_bundesligua=df_links_date_bundesligua.links_date_bundesligua.values.tolist()\n",
    "\n",
    "df_teams_budesligua=dataframe_by_championnat(links_date_bundesligua)\n",
    "df_teams_budesligua.to_pickle('input/df_teams_budesligua.pkl')"
   ]
  },
  {
   "cell_type": "code",
   "execution_count": 17,
   "metadata": {},
   "outputs": [
    {
     "name": "stdout",
     "output_type": "stream",
     "text": [
      "0\n",
      "50\n",
      "100\n",
      "150\n",
      "200\n",
      "250\n",
      "300\n",
      "350\n",
      "400\n",
      "450\n",
      "500\n",
      "550\n",
      "600\n",
      "650\n",
      "700\n",
      "750\n",
      "800\n",
      "850\n",
      "900\n",
      "950\n",
      "1000\n",
      "1050\n",
      "1100\n",
      "1150\n",
      "1200\n",
      "1250\n",
      "1300\n",
      "1350\n",
      "1400\n",
      "1450\n",
      "1500\n",
      "1550\n",
      "1600\n"
     ]
    }
   ],
   "source": [
    "df_links_date_premiere_league = pd.read_pickle('input/df_links_date_premiere_league.pkl')\n",
    "links_date_premiere_league=df_links_date_premiere_league.links_date_premiere_league.values.tolist()\n",
    "\n",
    "df_teams_premiere_league=dataframe_by_championnat(links_date_premiere_league)\n",
    "df_teams_premiere_league.to_pickle('input/df_teams_premiere_league.pkl')"
   ]
  },
  {
   "cell_type": "code",
   "execution_count": 18,
   "metadata": {},
   "outputs": [
    {
     "name": "stdout",
     "output_type": "stream",
     "text": [
      "0\n",
      "50\n",
      "100\n",
      "150\n",
      "200\n",
      "250\n",
      "300\n",
      "350\n",
      "400\n",
      "450\n",
      "500\n",
      "550\n",
      "600\n",
      "650\n",
      "700\n",
      "750\n",
      "800\n",
      "850\n",
      "900\n",
      "950\n",
      "1000\n",
      "1050\n",
      "1100\n",
      "1150\n",
      "1200\n",
      "1250\n",
      "1300\n",
      "1350\n",
      "1400\n",
      "1450\n",
      "1500\n",
      "1550\n",
      "1600\n"
     ]
    }
   ],
   "source": [
    "df_links_date_liga = pd.read_pickle('input/df_links_date_liga.pkl')\n",
    "links_date_liga=df_links_date_liga.links_date_liga.values.tolist()\n",
    "\n",
    "df_teams_liga=dataframe_by_championnat(links_date_liga)\n",
    "df_teams_liga.to_pickle('input/df_teams_liga.pkl')"
   ]
  },
  {
   "cell_type": "code",
   "execution_count": 19,
   "metadata": {},
   "outputs": [
    {
     "name": "stdout",
     "output_type": "stream",
     "text": [
      "0\n",
      "50\n",
      "100\n",
      "150\n",
      "200\n",
      "250\n",
      "300\n",
      "350\n",
      "400\n",
      "450\n",
      "500\n",
      "550\n",
      "600\n",
      "650\n",
      "700\n",
      "750\n",
      "800\n",
      "850\n",
      "900\n",
      "950\n",
      "1000\n",
      "1050\n",
      "1100\n",
      "1150\n",
      "1200\n",
      "1250\n",
      "1300\n",
      "1350\n",
      "1400\n",
      "1450\n",
      "1500\n",
      "1550\n",
      "1600\n"
     ]
    }
   ],
   "source": [
    "df_links_date_ligue1 = pd.read_pickle('input/df_links_date_ligue1.pkl')\n",
    "links_date_ligue1=df_links_date_ligue1.links_date_ligue1.values.tolist()\n",
    "\n",
    "df_teams_ligue1=dataframe_by_championnat(links_date_ligue1)\n",
    "df_teams_ligue1.to_pickle('input/df_teams_ligue1.pkl')"
   ]
  },
  {
   "cell_type": "code",
   "execution_count": null,
   "metadata": {},
   "outputs": [],
   "source": []
  },
  {
   "cell_type": "code",
   "execution_count": 2,
   "metadata": {},
   "outputs": [],
   "source": []
  },
  {
   "cell_type": "code",
   "execution_count": null,
   "metadata": {},
   "outputs": [],
   "source": []
  },
  {
   "cell_type": "markdown",
   "metadata": {},
   "source": [
    "# Dataframe PLAYERS "
   ]
  },
  {
   "cell_type": "code",
   "execution_count": 20,
   "metadata": {},
   "outputs": [],
   "source": [
    "def links_players_by_championnat(links_date_championnat) :\n",
    "    links_player=[]\n",
    "    for i in range(len(links_date_championnat)):  \n",
    "        r = requests.get(links_date_championnat[i])\n",
    "        soup = BeautifulSoup(r.text, 'html.parser')\n",
    "        players=soup.find(\"div\",{\"class\":\"responsive-table table-rounded\"}).find_all(\"tr\")[1:]\n",
    "        for j in range(len(players)):\n",
    "            links_player.append(\"https://www.fifaindex.com\"+players[j].find_all(\"a\")[0][\"href\"])\n",
    "        sleep(1)\n",
    "    return links_player"
   ]
  },
  {
   "cell_type": "code",
   "execution_count": 21,
   "metadata": {},
   "outputs": [],
   "source": [
    "df_links_date_serieA = pd.read_pickle('input/df_links_date_serieA.pkl')\n",
    "links_date_serieA=df_links_date_serieA.links_date_serieA.values.tolist()\n",
    "\n",
    "links_player_serieA=links_players_by_championnat(links_date_serieA)\n",
    "df_links_player_serieA=pd.DataFrame({\"links_player_serieA\": links_player_serieA})\n",
    "df_links_player_serieA.to_pickle('input/df_links_player_serieA.pkl')"
   ]
  },
  {
   "cell_type": "code",
   "execution_count": 22,
   "metadata": {},
   "outputs": [],
   "source": [
    "df_links_date_bundesligua = pd.read_pickle('input/df_links_date_bundesligua.pkl')\n",
    "links_date_bundesligua=df_links_date_bundesligua.links_date_bundesligua.values.tolist()\n",
    "\n",
    "links_player_bunedesligua=links_players_by_championnat(links_date_bundesligua )\n",
    "df_links_player_bunedesligua=pd.DataFrame({\"links_player_bunedesligua\": links_player_bunedesligua})\n",
    "df_links_player_bunedesligua.to_pickle('input/df_links_player_bunedesligua.pkl')"
   ]
  },
  {
   "cell_type": "code",
   "execution_count": 23,
   "metadata": {},
   "outputs": [],
   "source": [
    "df_links_date_premiere_league = pd.read_pickle('input/df_links_date_premiere_league.pkl')\n",
    "links_date_premiere_league=df_links_date_premiere_league.links_date_premiere_league.values.tolist()\n",
    "\n",
    "links_player_premiere_league=links_players_by_championnat(links_date_premiere_league)\n",
    "df_links_player_premiere_league=pd.DataFrame({\"links_player_premiere_league\": links_player_premiere_league})\n",
    "df_links_player_premiere_league.to_pickle('input/df_links_player_premiere_league.pkl')"
   ]
  },
  {
   "cell_type": "code",
   "execution_count": 24,
   "metadata": {},
   "outputs": [],
   "source": [
    "df_links_date_liga = pd.read_pickle('input/df_links_date_liga.pkl')\n",
    "links_date_liga=df_links_date_liga.links_date_liga.values.tolist()\n",
    "\n",
    "links_player_liga=links_players_by_championnat(links_date_liga )\n",
    "df_links_player_liga=pd.DataFrame({\"links_player_liga\": links_player_liga})\n",
    "df_links_player_liga.to_pickle('input/df_links_player_liga.pkl')"
   ]
  },
  {
   "cell_type": "code",
   "execution_count": 25,
   "metadata": {},
   "outputs": [],
   "source": [
    "links_player_ligue1=links_players_by_championnat(links_date_ligue1 )\n",
    "df_links_player_ligue1=pd.DataFrame({\"links_player_ligue1\": links_player_ligue1})\n",
    "df_links_player_ligue1.to_pickle('input/df_links_player_ligue1.pkl')"
   ]
  },
  {
   "cell_type": "code",
   "execution_count": 7,
   "metadata": {},
   "outputs": [],
   "source": [
    "def dataframe_players_by_champinonat(links_players):\n",
    "    df_players=pd.DataFrame(columns=['player','club','date','taille','poid','meilleur_pied','age','valeur','salaire','controles',\n",
    "                         'dribbles','marquage','tacle_glisse','tacle_debout','engagement','reactivite','placement',\n",
    "                         'intercept','vista','discipline','passe_centre','passe_courte','passe_longue','phy_acceleration',\n",
    "                         'phy_endurance','phy_force',' phy_equilibre','phy_vitesse','phy_agilite','phy_detente','tir_tete',\n",
    "                         'tir_frappe','tir_finition','tir_loin','tir_effet','tir_precision','tir_penalty','tir_volee',\n",
    "                         'gardien_placement','gardien_plongeon','gardien_main','gardien_pied','gardien_reflexe'])\n",
    "    for i in range(len(links_players)):\n",
    "        r = requests.get(links_players[i])\n",
    "        soup = BeautifulSoup(r.text, 'html.parser')\n",
    "        records = []\n",
    "        team=soup.find_all(\"div\",{\"class\":\"col-12 col-sm-6 col-lg-6 team\"})\n",
    "        info=soup.find_all(\"div\",{\"class\":\"col-sm-6\"})\n",
    "        cards=soup.find_all(\"div\",{\"class\":\"col-12 col-md-4 item\"})\n",
    "\n",
    "        player=info[1].contents[1].find_all(\"h5\",{\"class\":\"card-header\"})[0].contents[0]\n",
    "        try:\n",
    "            club=team[1].find(\"h5\").find_all(\"a\")[-1].text\n",
    "        except:\n",
    "            club=team[0].find(\"h5\").find_all(\"a\")[-1].text\n",
    "        date=soup.find_all(\"li\",{\"class\":\"breadcrumb-item dropdown\"})[1].find_all(\"a\")[0].text\n",
    "        taille=info[1].find_all(\"span\",{\"class\":\"data-units data-units-metric\"})[0].text\n",
    "        poid=info[1].find_all(\"span\",{\"class\":\"data-units data-units-metric\"})[1].text\n",
    "        meilleur_pied=info[1].find_all(\"p\")[2].find(\"span\").text\n",
    "        age=info[1].find_all(\"p\")[4].find(\"span\").text\n",
    "        valeur=info[1].find_all(\"p\",{\"class\":\"data-currency data-currency-euro\"})[0].find(\"span\").text\n",
    "        salaire=info[1].find_all(\"p\",{\"class\":\"data-currency data-currency-euro\"})[1].find(\"span\").text\n",
    "\n",
    "        controles=cards[0].contents[1].find_all(\"p\")[0].contents[1].text\n",
    "        dribbles= cards[0].contents[1].find_all(\"p\")[1].contents[1].text\n",
    "\n",
    "        marquage=cards[1].contents[1].find_all(\"p\")[0].contents[1].text\n",
    "        tacle_glisse=cards[1].contents[1].find_all(\"p\")[1].contents[1].text\n",
    "        tacle_debout=cards[1].contents[1].find_all(\"p\")[2].contents[1].text\n",
    "\n",
    "        engagement = cards[2].contents[1].find_all(\"p\")[0].contents[1].text\n",
    "        reactivite = cards[2].contents[1].find_all(\"p\")[1].contents[1].text\n",
    "        placement = cards[2].contents[1].find_all(\"p\")[2].contents[1].text\n",
    "        intercept = cards[2].contents[1].find_all(\"p\")[3].contents[1].text\n",
    "        vista = cards[2].contents[1].find_all(\"p\")[4].contents[1].text\n",
    "        discipline = cards[2].contents[1].find_all(\"p\")[5].contents[1].text\n",
    "\n",
    "        passe_centre=cards[3].contents[1].find_all(\"p\")[0].contents[1].text\n",
    "        passe_courte=cards[3].contents[1].find_all(\"p\")[1].contents[1].text\n",
    "        passe_longue=cards[3].contents[1].find_all(\"p\")[2].contents[1].text\n",
    "\n",
    "        phy_acceleration=cards[4].contents[1].find_all(\"p\")[0].contents[1].text\n",
    "        phy_endurance=cards[4].contents[1].find_all(\"p\")[1].contents[1].text\n",
    "        phy_force=cards[4].contents[1].find_all(\"p\")[2].contents[1].text\n",
    "        phy_equilibre=cards[4].contents[1].find_all(\"p\")[3].contents[1].text\n",
    "        phy_vitesse=cards[4].contents[1].find_all(\"p\")[4].contents[1].text\n",
    "        phy_agilite=cards[4].contents[1].find_all(\"p\")[5].contents[1].text\n",
    "        phy_detente=cards[4].contents[1].find_all(\"p\")[6].contents[1].text\n",
    "\n",
    "        tir_tete=cards[5].contents[1].find_all(\"p\")[0].contents[1].text\n",
    "        tir_frappe=cards[5].contents[1].find_all(\"p\")[1].contents[1].text\n",
    "        tir_finition=cards[5].contents[1].find_all(\"p\")[2].contents[1].text\n",
    "        tir_loin=cards[5].contents[1].find_all(\"p\")[3].contents[1].text\n",
    "        tir_effet=cards[5].contents[1].find_all(\"p\")[4].contents[1].text\n",
    "        tir_precision=cards[5].contents[1].find_all(\"p\")[5].contents[1].text\n",
    "        tir_penalty=cards[5].contents[1].find_all(\"p\")[6].contents[1].text\n",
    "        tir_volee=cards[5].contents[1].find_all(\"p\")[7].contents[1].text\n",
    "\n",
    "        gardien_placement=cards[6].contents[1].find_all(\"p\")[0].contents[1].text\n",
    "        gardien_plongeon=cards[6].contents[1].find_all(\"p\")[1].contents[1].text\n",
    "        gardien_main=cards[6].contents[1].find_all(\"p\")[2].contents[1].text\n",
    "        gardien_pied=cards[6].contents[1].find_all(\"p\")[3].contents[1].text\n",
    "        gardien_reflexe=cards[6].contents[1].find_all(\"p\")[4].contents[1].text\n",
    "\n",
    "        records.append((player,club,date,taille,poid,meilleur_pied,age,valeur,\n",
    "                                  salaire,controles,dribbles,marquage,tacle_glisse,tacle_debout,engagement,\n",
    "                                  reactivite,placement,intercept,vista,discipline,passe_centre,passe_courte,\n",
    "                                  passe_longue,phy_acceleration,phy_endurance,phy_force,phy_equilibre,phy_vitesse,\n",
    "                                  phy_agilite,phy_detente,tir_tete,tir_frappe,tir_finition,tir_loin,tir_effet,\n",
    "                                  tir_precision,tir_penalty,tir_volee,gardien_placement,gardien_plongeon,gardien_main,\n",
    "                                  gardien_pied,gardien_reflexe))\n",
    "        df_player = pd.DataFrame(records, columns=['player','club','date','taille','poid','meilleur_pied','age','valeur',\n",
    "                                  'salaire','controles','dribbles','marquage','tacle_glisse','tacle_debout','engagement',\n",
    "                                  'reactivite','placement','intercept','vista','discipline','passe_centre','passe_courte',\n",
    "                                  'passe_longue','phy_acceleration','phy_endurance','phy_force','phy_equilibre','phy_vitesse',\n",
    "                                  'phy_agilite','phy_detente','tir_tete','tir_frappe','tir_finition','tir_loin','tir_effet',\n",
    "                                  'tir_precision','tir_penalty','tir_volee','gardien_placement','gardien_plongeon','gardien_main',\n",
    "                                  'gardien_pied','gardien_reflexe'])\n",
    "\n",
    "        df_players=df_players.append(df_player)\n",
    "        sleep(1)\n",
    "    return df_players"
   ]
  },
  {
   "cell_type": "code",
   "execution_count": null,
   "metadata": {},
   "outputs": [],
   "source": [
    "df_links_player_serieA = pd.read_pickle('input/df_links_player_serieA.pkl')\n",
    "links_player_serieA=df_links_player_serieA.links_player_serieA.values.tolist()\n",
    "df_players_serieA=dataframe_players_by_champinonat(links_player_serieA)\n",
    "df_players_serieA.to_pickle('input/df_players_serieA.pkl')"
   ]
  },
  {
   "cell_type": "code",
   "execution_count": null,
   "metadata": {},
   "outputs": [],
   "source": [
    "df_links_player_bunedesligua = pd.read_pickle('input/df_links_player_bunedesligua.pkl')\n",
    "links_player_bunedesligua=df_links_player_bunedesligua.links_player_bunedesligua.values.tolist()\n",
    "df_players_bunedesligua=dataframe_players_by_champinonat(links_player_bunedesligua)\n",
    "df_players_bunedesligua.to_pickle('input/df_players_bunedesligua.pkl')"
   ]
  },
  {
   "cell_type": "code",
   "execution_count": null,
   "metadata": {},
   "outputs": [],
   "source": [
    "df_links_player_premiere_league = pd.read_pickle('input/df_links_player_premiere_league.pkl')\n",
    "links_player_premiere_league=df_links_player_premiere_league.links_player_premiere_league.values.tolist()\n",
    "df_players_premiere_league=dataframe_players_by_champinonat(links_player_premiere_league)\n",
    "df_players_premiere_league.to_pickle('input/df_players_premiere_league.pkl')"
   ]
  },
  {
   "cell_type": "code",
   "execution_count": null,
   "metadata": {},
   "outputs": [],
   "source": [
    "df_links_player_liga = pd.read_pickle('input/df_links_player_liga.pkl')\n",
    "links_player_liga=df_links_player_liga.links_player_liga.values.tolist()\n",
    "df_players_liga=dataframe_players_by_champinonat(links_player_liga)\n",
    "df_players_liga.to_pickle('input/df_players_liga.pkl')"
   ]
  },
  {
   "cell_type": "code",
   "execution_count": null,
   "metadata": {},
   "outputs": [],
   "source": [
    "df_links_player_ligue1 = pd.read_pickle('input/df_links_player_ligue1.pkl')\n",
    "links_player_ligue1=df_links_player_ligue1.links_player_ligue1.values.tolist()\n",
    "df_players_ligue1=dataframe_players_by_champinonat(links_player_ligue1)\n",
    "df_players_ligue1.to_pickle('input/df_players_ligue1.pkl')"
   ]
  },
  {
   "cell_type": "markdown",
   "metadata": {},
   "source": [
    "# Dataframe MATCHS"
   ]
  },
  {
   "cell_type": "code",
   "execution_count": null,
   "metadata": {},
   "outputs": [],
   "source": [
    "def test(championnat):\n",
    "    r = requests.get(championnat)\n",
    "    soup = BeautifulSoup(r.text, 'html.parser')\n",
    "    liens=soup.find_all(\"tbody\")[0].find_all(\"tr\")\n",
    "    list_link=[]\n",
    "    for i in range(len(liens)):\n",
    "        lien=\"https://fbref.com\"+liens[i].find(\"a\")[\"href\"]\n",
    "        list_link.append(lien)\n",
    "\n",
    "    df_matchs=pd.DataFrame(columns=[\"date\",\"host_team\",\"away_team\",\"score\",\"host_list_player\",\"away_list_player\"])\n",
    "\n",
    "    for element in range(len(list_link[0:17])): \n",
    "        r = requests.get(list_link[element])\n",
    "        soup = BeautifulSoup(r.text, 'html.parser')\n",
    "        lien=\"https://fbref.com\"+soup.find_all(\"ul\",{\"class\":\"hoversmooth\"})[1].find_all(\"p\")[1].find(\"a\")[\"href\"]\n",
    "        r2=requests.get(lien)\n",
    "        soup2 = BeautifulSoup(r2.text, 'html.parser')\n",
    "\n",
    "        for rapport in range(len(soup2.find_all(\"tbody\")[0].find_all(\"td\",{\"data-stat\":\"score\"}))) :\n",
    "            records=[]    \n",
    "            if soup2.find_all(\"tbody\")[0].find_all(\"td\",{\"data-stat\":\"score\"})[rapport].text!='':\n",
    "                try: \n",
    "                    \n",
    "                    date=soup2.find_all(\"tbody\")[0].find_all(\"td\",{\"data-stat\":\"date\"})[rapport].find(\"a\").text\n",
    "                    host_team=soup2.find_all(\"tbody\")[0].find_all(\"td\",{\"data-stat\":\"squad_a\"})[rapport].find(\"a\").text\n",
    "                    away_team= soup2.find_all(\"tbody\")[0].find_all(\"td\",{\"data-stat\":\"squad_b\"})[rapport].find(\"a\").text\n",
    "                    score=soup2.find_all(\"tbody\")[0].find_all(\"td\",{\"data-stat\":\"score\"})[rapport].find(\"a\").text\n",
    "\n",
    "                    match=\"https://fbref.com\"+soup2.find_all(\"tbody\")[0].find_all(\"td\",{\"data-stat\":\"match_report\"})[rapport].find(\"a\")[\"href\"]\n",
    "                    r3=requests.get(match)\n",
    "                    soup3 = BeautifulSoup(r3.text, 'html.parser')\n",
    "                    host_players=soup3.find_all(\"tbody\")[5].find_all(\"th\",{\"scope\":\"row\",\"data-stat\":\"player\"})\n",
    "                    host_list_player=[]\n",
    "                    for i in range(len(host_players)):\n",
    "                        host_player=host_players[i].find(\"a\").text\n",
    "                        host_list_player.append(host_player)\n",
    "\n",
    "                    away_players=soup3.find_all(\"tbody\")[7].find_all(\"th\",{\"scope\":\"row\",\"data-stat\":\"player\"})                \n",
    "                    away_list_player=[]\n",
    "                    for i in range(len(away_players)):\n",
    "                        away_player=away_players[i].find(\"a\").text\n",
    "                        away_list_player.append(away_player)\n",
    "                except : \n",
    "                    try : \n",
    "                        host_players=soup3.find_all(\"tbody\")[0].find_all(\"th\",{\"scope\":\"row\",\"data-stat\":\"player\"})\n",
    "                        host_list_player=[]\n",
    "                        for i in range(len(host_players)):\n",
    "                            host_player=host_players[i].find(\"a\").text\n",
    "                            host_list_player.append(host_player)\n",
    "\n",
    "                        away_players=soup3.find_all(\"tbody\")[1].find_all(\"th\",{\"scope\":\"row\",\"data-stat\":\"player\"})                \n",
    "                        away_list_player=[]\n",
    "                        for i in range(len(away_players)):\n",
    "                            away_player=away_players[i].find(\"a\").text\n",
    "                            away_list_player.append(away_player)\n",
    "                    except:\n",
    "                        host_list_player=\"\"\n",
    "                        away_list_player=\"\"\n",
    "                        print(\"problème sur la liste des joueurs : {}\".format(match))\n",
    "                \n",
    "            else :\n",
    "                records.append(\"\")\n",
    "                continue\n",
    "            records.append((date,host_team,away_team,score,host_list_player,away_list_player))\n",
    "            df_match = pd.DataFrame(records, columns=[\"date\",\"host_team\",\"away_team\",\"score\",\"host_list_player\",\"away_list_player\"])\n",
    "            df_matchs=df_matchs.append(df_match)\n",
    "            sleep(1)\n",
    "    return df_matchs\n"
   ]
  },
  {
   "cell_type": "code",
   "execution_count": 391,
   "metadata": {},
   "outputs": [],
   "source": [
    "serieA=\"https://fbref.com/fr/comps/11/historique/Saisons-Serie-A\"\n",
    "bundesliga=\"https://fbref.com/fr/comps/20/historique/Saisons-Bundesliga\"\n",
    "premiere_league=\"https://fbref.com/fr/comps/9/historique/Saisons-Premier-League\"\n",
    "liga=\"https://fbref.com/fr/comps/12/historique/Saisons-La-Liga\"\n",
    "ligue1=\"https://fbref.com/fr/comps/13/historique/Saisons-Ligue-1\""
   ]
  },
  {
   "cell_type": "code",
   "execution_count": null,
   "metadata": {},
   "outputs": [],
   "source": [
    "df_matchs_serieA=test(serieA)\n",
    "df_matchs_serieA.to_pickle('input/df_matchs_serieA.pkl')"
   ]
  },
  {
   "cell_type": "code",
   "execution_count": null,
   "metadata": {},
   "outputs": [],
   "source": [
    "df_matchs_bundesliga=test(bundesliga)\n",
    "df_matchs_bundesliga.to_pickle('input/df_matchs_bundesliga.pkl')"
   ]
  },
  {
   "cell_type": "code",
   "execution_count": null,
   "metadata": {},
   "outputs": [],
   "source": [
    "df_matchs_premiere_league=test(premiere_league)\n",
    "df_matchs_premiere_league.to_pickle('input/df_matchs_premiere_league.pkl')"
   ]
  },
  {
   "cell_type": "code",
   "execution_count": null,
   "metadata": {},
   "outputs": [],
   "source": [
    "df_matchs_liga=test(liga)\n",
    "df_matchs_liga.to_pickle('input/df_matchs_liga.pkl')"
   ]
  },
  {
   "cell_type": "code",
   "execution_count": null,
   "metadata": {},
   "outputs": [],
   "source": [
    "df_matchs_ligue1=test(ligue1)\n",
    "df_matchs_ligue1.to_pickle('input/df_matchs_ligue1.pkl')"
   ]
  },
  {
   "cell_type": "code",
   "execution_count": null,
   "metadata": {},
   "outputs": [],
   "source": []
  },
  {
   "cell_type": "code",
   "execution_count": null,
   "metadata": {},
   "outputs": [],
   "source": []
  }
 ],
 "metadata": {
  "kernelspec": {
   "display_name": "Python 3",
   "language": "python",
   "name": "python3"
  },
  "language_info": {
   "codemirror_mode": {
    "name": "ipython",
    "version": 3
   },
   "file_extension": ".py",
   "mimetype": "text/x-python",
   "name": "python",
   "nbconvert_exporter": "python",
   "pygments_lexer": "ipython3",
   "version": "3.7.3"
  },
  "toc": {
   "base_numbering": 1,
   "nav_menu": {},
   "number_sections": true,
   "sideBar": true,
   "skip_h1_title": false,
   "title_cell": "Table of Contents",
   "title_sidebar": "Contents",
   "toc_cell": false,
   "toc_position": {},
   "toc_section_display": true,
   "toc_window_display": false
  }
 },
 "nbformat": 4,
 "nbformat_minor": 4
}
